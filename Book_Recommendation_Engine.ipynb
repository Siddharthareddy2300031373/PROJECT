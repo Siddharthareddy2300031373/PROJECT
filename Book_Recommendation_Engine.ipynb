{
 "cells": [
  {
   "cell_type": "markdown",
   "id": "eea85d20",
   "metadata": {},
   "source": [
    "# Book Recommendation Engine\n",
    "## Building a Book Recommendation System using Goodbooks-10k dataset\n",
    "This project creates a recommendation engine that suggests books a user might like based on their past ratings. It uses the K-Nearest Neighbors (KNN) algorithm implemented from scratch, similar to our movie recommendation system."
   ]
  },
  {
   "cell_type": "code",
   "execution_count": null,
   "id": "d47762a1",
   "metadata": {},
   "outputs": [],
   "source": [
    "import pandas as pd\n",
    "import numpy as np\n",
    "from sklearn.metrics.pairwise import cosine_similarity"
   ]
  },
  {
   "cell_type": "markdown",
   "id": "debe17b0",
   "metadata": {},
   "source": [
    "### Load the Data\n",
    "We will use the `books.csv` and `ratings.csv` from the Goodbooks-10k dataset."
   ]
  },
  {
   "cell_type": "code",
   "execution_count": null,
   "id": "20de11e8",
   "metadata": {},
   "outputs": [],
   "source": [
    "# Load book metadata\n",
    "books = pd.read_csv('books.csv', usecols=['book_id', 'title'])\n",
    "books.head()"
   ]
  },
  {
   "cell_type": "code",
   "execution_count": null,
   "id": "478bb969",
   "metadata": {},
   "outputs": [],
   "source": [
    "# Load user ratings\n",
    "ratings = pd.read_csv('ratings.csv', usecols=['user_id', 'book_id', 'rating'])\n",
    "ratings.head()"
   ]
  },
  {
   "cell_type": "code",
   "execution_count": null,
   "id": "6c02db26",
   "metadata": {},
   "outputs": [],
   "source": [
    "# Merge both datasets\n",
    "book_info = pd.merge(books, ratings, left_on='book_id', right_on='book_id')\n",
    "book_info.head()"
   ]
  },
  {
   "cell_type": "code",
   "execution_count": null,
   "id": "66d96742",
   "metadata": {},
   "outputs": [],
   "source": [
    "# Sort by user and book\n",
    "book_info = book_info.sort_values(['user_id', 'book_id'])\n",
    "book_info.head()"
   ]
  },
  {
   "cell_type": "markdown",
   "id": "09cd34aa",
   "metadata": {},
   "source": [
    "### Create the User-Item Matrix"
   ]
  },
  {
   "cell_type": "code",
   "execution_count": null,
   "id": "fc282431",
   "metadata": {},
   "outputs": [],
   "source": [
    "user_item_matrix = book_info.pivot_table(index='user_id', columns='book_id', values='rating')\n",
    "user_item_matrix.fillna(0, inplace=True)\n",
    "user_item_matrix.head()"
   ]
  },
  {
   "cell_type": "markdown",
   "id": "7ed06ef0",
   "metadata": {},
   "source": [
    "### K-Nearest Neighbors from Scratch\n",
    "We'll define a function to compute the K-nearest users based on cosine similarity."
   ]
  },
  {
   "cell_type": "code",
   "execution_count": null,
   "id": "8a7e64de",
   "metadata": {},
   "outputs": [],
   "source": [
    "def knn(user_matrix, target_user_id, k=5):\n",
    "    similarities = cosine_similarity([user_matrix.loc[target_user_id]], user_matrix)[0]\n",
    "    similarity_scores = list(enumerate(similarities))\n",
    "    similarity_scores = sorted(similarity_scores, key=lambda x: x[1], reverse=True)\n",
    "    nearest_users = [user for user, score in similarity_scores[1:k+1]]\n",
    "    return nearest_users"
   ]
  },
  {
   "cell_type": "code",
   "execution_count": null,
   "id": "9a139133",
   "metadata": {},
   "outputs": [],
   "source": [
    "target_user = 1  # Example user\n",
    "nearest = knn(user_item_matrix, target_user, k=5)\n",
    "nearest"
   ]
  },
  {
   "cell_type": "markdown",
   "id": "20c6fb6a",
   "metadata": {},
   "source": [
    "### Generate Recommendations"
   ]
  },
  {
   "cell_type": "code",
   "execution_count": null,
   "id": "2ebf0879",
   "metadata": {},
   "outputs": [],
   "source": [
    "def recommend_books(user_matrix, book_data, target_user_id, nearest_users, num_recommendations=5):\n",
    "    user_ratings = user_matrix.loc[target_user_id]\n",
    "    unrated_books = user_ratings[user_ratings == 0].index\n",
    "    predicted_ratings = {}\n",
    "    for book_id in unrated_books:\n",
    "        total = 0\n",
    "        count = 0\n",
    "        for user in nearest_users:\n",
    "            rating = user_matrix.loc[user, book_id]\n",
    "            if rating != 0:\n",
    "                total += rating\n",
    "                count += 1\n",
    "        if count > 0:\n",
    "            predicted_ratings[book_id] = total / count\n",
    "    recommended_books = sorted(predicted_ratings.items(), key=lambda x: x[1], reverse=True)[:num_recommendations]\n",
    "    return book_data[book_data['book_id'].isin([book[0] for book in recommended_books])]['title']"
   ]
  },
  {
   "cell_type": "code",
   "execution_count": null,
   "id": "fbf90388",
   "metadata": {},
   "outputs": [],
   "source": [
    "recommend_books(user_item_matrix, books, target_user, nearest)"
   ]
  }
 ],
 "metadata": {},
 "nbformat": 4,
 "nbformat_minor": 5
}
